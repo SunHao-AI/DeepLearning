{
 "cells": [
  {
   "cell_type": "markdown",
   "metadata": {},
   "source": [
    "# Homework-1: Softmax for MNIST Classification\n",
    "\n",
    "### In this homework, you need to\n",
    "- ### implement and apply a softmax classifier to perform digits classification."
   ]
  },
  {
   "cell_type": "code",
   "execution_count": 4,
   "metadata": {},
   "outputs": [],
   "source": [
    "import os, sys\n",
    "import numpy as np\n",
    "import matplotlib.pyplot as plt\n",
    "%matplotlib inline"
   ]
  },
  {
   "cell_type": "markdown",
   "metadata": {},
   "source": [
    "## Load MNIST Dataset\n",
    "The **mnist_data_loader.py** is a script to load mnist dataset, which is included in [TensorFlow tutorial](https://github.com/tensorflow/tensorflow/blob/r0.7/tensorflow/examples/tutorials/mnist/input_data.py)."
   ]
  },
  {
   "cell_type": "code",
   "execution_count": 5,
   "metadata": {},
   "outputs": [
    {
     "ename": "ModuleNotFoundError",
     "evalue": "No module named 'tensorflow'",
     "output_type": "error",
     "traceback": [
      "\u001b[1;31m---------------------------------------------------------------------------\u001b[0m",
      "\u001b[1;31mModuleNotFoundError\u001b[0m                       Traceback (most recent call last)",
      "\u001b[1;32m~\\AppData\\Local\\Temp/ipykernel_16412/3108511479.py\u001b[0m in \u001b[0;36m<module>\u001b[1;34m\u001b[0m\n\u001b[1;32m----> 1\u001b[1;33m \u001b[1;32mimport\u001b[0m \u001b[0mmnist_data_loader\u001b[0m\u001b[1;33m\u001b[0m\u001b[1;33m\u001b[0m\u001b[0m\n\u001b[0m\u001b[0;32m      2\u001b[0m \u001b[1;33m\u001b[0m\u001b[0m\n\u001b[0;32m      3\u001b[0m \u001b[0mmnist_dataset\u001b[0m \u001b[1;33m=\u001b[0m \u001b[0mmnist_data_loader\u001b[0m\u001b[1;33m.\u001b[0m\u001b[0mread_data_sets\u001b[0m\u001b[1;33m(\u001b[0m\u001b[1;34m\"../DataSet/MNIST_data/\"\u001b[0m\u001b[1;33m,\u001b[0m \u001b[0mone_hot\u001b[0m\u001b[1;33m=\u001b[0m\u001b[1;32mTrue\u001b[0m\u001b[1;33m)\u001b[0m\u001b[1;33m\u001b[0m\u001b[1;33m\u001b[0m\u001b[0m\n\u001b[0;32m      4\u001b[0m \u001b[1;33m\u001b[0m\u001b[0m\n\u001b[0;32m      5\u001b[0m \u001b[1;31m# training dataset\u001b[0m\u001b[1;33m\u001b[0m\u001b[1;33m\u001b[0m\u001b[1;33m\u001b[0m\u001b[0m\n",
      "\u001b[1;32mD:\\JetBrains\\workplace\\PyCharm-P\\DeepLearning\\01-手写数字识别实现-Softmax\\mnist_data_loader.py\u001b[0m in \u001b[0;36m<module>\u001b[1;34m\u001b[0m\n\u001b[0;32m     25\u001b[0m \u001b[1;32mfrom\u001b[0m \u001b[0msix\u001b[0m\u001b[1;33m.\u001b[0m\u001b[0mmoves\u001b[0m \u001b[1;32mimport\u001b[0m \u001b[0murllib\u001b[0m\u001b[1;33m\u001b[0m\u001b[1;33m\u001b[0m\u001b[0m\n\u001b[0;32m     26\u001b[0m \u001b[1;32mfrom\u001b[0m \u001b[0msix\u001b[0m\u001b[1;33m.\u001b[0m\u001b[0mmoves\u001b[0m \u001b[1;32mimport\u001b[0m \u001b[0mxrange\u001b[0m  \u001b[1;31m# pylint: disable=redefined-builtin\u001b[0m\u001b[1;33m\u001b[0m\u001b[1;33m\u001b[0m\u001b[0m\n\u001b[1;32m---> 27\u001b[1;33m \u001b[1;32mimport\u001b[0m \u001b[0mtensorflow\u001b[0m \u001b[1;32mas\u001b[0m \u001b[0mtf\u001b[0m\u001b[1;33m\u001b[0m\u001b[1;33m\u001b[0m\u001b[0m\n\u001b[0m\u001b[0;32m     28\u001b[0m \u001b[1;32mimport\u001b[0m \u001b[0mtensorflow\u001b[0m\u001b[1;33m.\u001b[0m\u001b[0m_api\u001b[0m\u001b[1;33m.\u001b[0m\u001b[0mv2\u001b[0m\u001b[1;33m.\u001b[0m\u001b[0mcompat\u001b[0m\u001b[1;33m.\u001b[0m\u001b[0mv1\u001b[0m \u001b[1;32mas\u001b[0m \u001b[0mtf\u001b[0m\u001b[1;33m\u001b[0m\u001b[1;33m\u001b[0m\u001b[0m\n\u001b[0;32m     29\u001b[0m \u001b[1;33m\u001b[0m\u001b[0m\n",
      "\u001b[1;31mModuleNotFoundError\u001b[0m: No module named 'tensorflow'"
     ]
    }
   ],
   "source": [
    "import mnist_data_loader\n",
    "\n",
    "mnist_dataset = mnist_data_loader.read_data_sets(\"../DataSet/MNIST_data/\", one_hot=True)\n",
    "\n",
    "# training dataset\n",
    "train_set = mnist_dataset.train\n",
    "# test dataset\n",
    "test_set = mnist_dataset.test\n",
    "\n",
    "train_size = train_set.num_examples\n",
    "test_size = test_set.num_examples\n",
    "print()\n",
    "print('Training dataset size: ', train_size)\n",
    "print('Test dataset size: ', test_size)"
   ]
  },
  {
   "cell_type": "markdown",
   "metadata": {},
   "source": [
    "## Data Example\n",
    "To have a better understand of MNIST dataset, we can visualize some examples in MNIST."
   ]
  },
  {
   "cell_type": "code",
   "execution_count": 5,
   "metadata": {},
   "outputs": [
    {
     "name": "stdout",
     "output_type": "stream",
     "text": [
      "[0. 0. 0. 0. 1. 0. 0. 0. 0. 0.]\n"
     ]
    },
    {
     "data": {
      "text/plain": [
       "<matplotlib.image.AxesImage at 0x1de83fd5820>"
      ]
     },
     "execution_count": 5,
     "metadata": {},
     "output_type": "execute_result"
    },
    {
     "data": {
      "image/png": "[encoded data removed]",
      "text/plain": [
       "<Figure size 432x288 with 1 Axes>"
      ]
     },
     "metadata": {
      "needs_background": "light"
     },
     "output_type": "display_data"
    }
   ],
   "source": [
    "# You can choose any image in training set to visualize, example_id ∈ [0,60000)\n",
    "example_id = 2\n",
    "\n",
    "image = train_set.images[example_id]  # shape = 784 (28*28)\n",
    "label = train_set.labels[example_id]  # shape = 10\n",
    "#print(image)\n",
    "print(label)\n",
    "plt.imshow(np.reshape(image, [28, 28]))"
   ]
  },
  {
   "cell_type": "markdown",
   "metadata": {},
   "source": [
    "## Set Hyerparameters\n",
    "You can modify hyerparameters by yourself."
   ]
  },
  {
   "cell_type": "code",
   "execution_count": 6,
   "metadata": {},
   "outputs": [],
   "source": [
    "batch_size = 100\n",
    "max_epoch = 10\n",
    "learning_rate = 0.001\n",
    "\n",
    "# For regularization\n",
    "lamda = 0.3"
   ]
  },
  {
   "cell_type": "markdown",
   "metadata": {},
   "source": [
    "### TODO\n",
    "Before executing the following code, you should accomplish **./softmax_classifier.py**."
   ]
  },
  {
   "cell_type": "code",
   "execution_count": 7,
   "metadata": {},
   "outputs": [],
   "source": [
    "from softmax_classifier import softmax_classifier, load_pred_images"
   ]
  },
  {
   "cell_type": "markdown",
   "metadata": {},
   "source": [
    "## Train"
   ]
  },
  {
   "cell_type": "code",
   "execution_count": 8,
   "metadata": {
    "scrolled": true
   },
   "outputs": [
    {
     "name": "stderr",
     "output_type": "stream",
     "text": [
      "D:\\JetBrains\\workplace\\PyCharm-P\\DeepLearnong3\\01-手写数字识别实现-Softmax\\softmax_classifier.py:8: UserWarning: To copy construct from a tensor, it is recommended to use sourceTensor.clone().detach() or sourceTensor.clone().detach().requires_grad_(True), rather than torch.tensor(sourceTensor).\n",
      "  x = torch.tensor(x)\n"
     ]
    },
    {
     "name": "stdout",
     "output_type": "stream",
     "text": [
      "Epoch [0][10]\t Batch [0][600]\t Training Loss 2.4338\t Accuracy 0.0600\n",
      "Epoch [0][10]\t Batch [100][600]\t Training Loss 2.3108\t Accuracy 0.5600\n",
      "Epoch [0][10]\t Batch [200][600]\t Training Loss 2.2521\t Accuracy 0.5000\n",
      "Epoch [0][10]\t Batch [300][600]\t Training Loss 2.1829\t Accuracy 0.5900\n",
      "Epoch [0][10]\t Batch [400][600]\t Training Loss 2.0655\t Accuracy 0.7200\n",
      "Epoch [0][10]\t Batch [500][600]\t Training Loss 2.0416\t Accuracy 0.7100\n",
      "\n",
      "Epoch [1][10]\t Batch [0][600]\t Training Loss 1.9521\t Accuracy 0.7100\n",
      "Epoch [1][10]\t Batch [100][600]\t Training Loss 1.9143\t Accuracy 0.7200\n",
      "Epoch [1][10]\t Batch [200][600]\t Training Loss 1.8876\t Accuracy 0.7300\n",
      "Epoch [1][10]\t Batch [300][600]\t Training Loss 1.8428\t Accuracy 0.7000\n",
      "Epoch [1][10]\t Batch [400][600]\t Training Loss 1.7593\t Accuracy 0.7800\n",
      "Epoch [1][10]\t Batch [500][600]\t Training Loss 1.7815\t Accuracy 0.7600\n",
      "\n",
      "Epoch [2][10]\t Batch [0][600]\t Training Loss 1.7299\t Accuracy 0.7700\n",
      "Epoch [2][10]\t Batch [100][600]\t Training Loss 1.7318\t Accuracy 0.7300\n",
      "Epoch [2][10]\t Batch [200][600]\t Training Loss 1.6942\t Accuracy 0.7700\n",
      "Epoch [2][10]\t Batch [300][600]\t Training Loss 1.6615\t Accuracy 0.7900\n",
      "Epoch [2][10]\t Batch [400][600]\t Training Loss 1.6055\t Accuracy 0.8100\n",
      "Epoch [2][10]\t Batch [500][600]\t Training Loss 1.5128\t Accuracy 0.8200\n",
      "\n",
      "Epoch [3][10]\t Batch [0][600]\t Training Loss 1.5814\t Accuracy 0.8000\n",
      "Epoch [3][10]\t Batch [100][600]\t Training Loss 1.5780\t Accuracy 0.8000\n",
      "Epoch [3][10]\t Batch [200][600]\t Training Loss 1.5789\t Accuracy 0.7400\n",
      "Epoch [3][10]\t Batch [300][600]\t Training Loss 1.4541\t Accuracy 0.9100\n",
      "Epoch [3][10]\t Batch [400][600]\t Training Loss 1.4750\t Accuracy 0.8500\n",
      "Epoch [3][10]\t Batch [500][600]\t Training Loss 1.4615\t Accuracy 0.8500\n",
      "\n",
      "Epoch [4][10]\t Batch [0][600]\t Training Loss 1.4750\t Accuracy 0.7900\n",
      "Epoch [4][10]\t Batch [100][600]\t Training Loss 1.5049\t Accuracy 0.8400\n",
      "Epoch [4][10]\t Batch [200][600]\t Training Loss 1.5225\t Accuracy 0.7700\n",
      "Epoch [4][10]\t Batch [300][600]\t Training Loss 1.4993\t Accuracy 0.8000\n",
      "Epoch [4][10]\t Batch [400][600]\t Training Loss 1.3773\t Accuracy 0.8600\n",
      "Epoch [4][10]\t Batch [500][600]\t Training Loss 1.5733\t Accuracy 0.7700\n",
      "\n",
      "Epoch [5][10]\t Batch [0][600]\t Training Loss 1.4772\t Accuracy 0.7600\n",
      "Epoch [5][10]\t Batch [100][600]\t Training Loss 1.4321\t Accuracy 0.8700\n",
      "Epoch [5][10]\t Batch [200][600]\t Training Loss 1.4442\t Accuracy 0.8300\n",
      "Epoch [5][10]\t Batch [300][600]\t Training Loss 1.3929\t Accuracy 0.7900\n",
      "Epoch [5][10]\t Batch [400][600]\t Training Loss 1.5490\t Accuracy 0.7600\n",
      "Epoch [5][10]\t Batch [500][600]\t Training Loss 1.3918\t Accuracy 0.8200\n",
      "\n",
      "Epoch [6][10]\t Batch [0][600]\t Training Loss 1.4179\t Accuracy 0.8300\n",
      "Epoch [6][10]\t Batch [100][600]\t Training Loss 1.4103\t Accuracy 0.8100\n",
      "Epoch [6][10]\t Batch [200][600]\t Training Loss 1.4222\t Accuracy 0.8500\n",
      "Epoch [6][10]\t Batch [300][600]\t Training Loss 1.4652\t Accuracy 0.7900\n",
      "Epoch [6][10]\t Batch [400][600]\t Training Loss 1.3927\t Accuracy 0.8100\n",
      "Epoch [6][10]\t Batch [500][600]\t Training Loss 1.3831\t Accuracy 0.8200\n",
      "\n",
      "Epoch [7][10]\t Batch [0][600]\t Training Loss 1.3706\t Accuracy 0.8400\n",
      "Epoch [7][10]\t Batch [100][600]\t Training Loss 1.3420\t Accuracy 0.8400\n",
      "Epoch [7][10]\t Batch [200][600]\t Training Loss 1.3534\t Accuracy 0.8500\n",
      "Epoch [7][10]\t Batch [300][600]\t Training Loss 1.3911\t Accuracy 0.8100\n",
      "Epoch [7][10]\t Batch [400][600]\t Training Loss 1.3702\t Accuracy 0.8700\n",
      "Epoch [7][10]\t Batch [500][600]\t Training Loss 1.4362\t Accuracy 0.7900\n",
      "\n",
      "Epoch [8][10]\t Batch [0][600]\t Training Loss 1.3903\t Accuracy 0.8600\n",
      "Epoch [8][10]\t Batch [100][600]\t Training Loss 1.4468\t Accuracy 0.8000\n",
      "Epoch [8][10]\t Batch [200][600]\t Training Loss 1.3037\t Accuracy 0.8500\n",
      "Epoch [8][10]\t Batch [300][600]\t Training Loss 1.4243\t Accuracy 0.8400\n",
      "Epoch [8][10]\t Batch [400][600]\t Training Loss 1.4412\t Accuracy 0.7900\n",
      "Epoch [8][10]\t Batch [500][600]\t Training Loss 1.4386\t Accuracy 0.8100\n",
      "\n",
      "Epoch [9][10]\t Batch [0][600]\t Training Loss 1.3829\t Accuracy 0.8100\n",
      "Epoch [9][10]\t Batch [100][600]\t Training Loss 1.4210\t Accuracy 0.7900\n",
      "Epoch [9][10]\t Batch [200][600]\t Training Loss 1.2853\t Accuracy 0.9100\n",
      "Epoch [9][10]\t Batch [300][600]\t Training Loss 1.3857\t Accuracy 0.8300\n",
      "Epoch [9][10]\t Batch [400][600]\t Training Loss 1.3980\t Accuracy 0.8700\n",
      "Epoch [9][10]\t Batch [500][600]\t Training Loss 1.3606\t Accuracy 0.8400\n",
      "\n"
     ]
    }
   ],
   "source": [
    "import torch\n",
    "import numpy\n",
    "\n",
    "# Weight Initialization\n",
    "W = np.random.randn(28 * 28, 10) * 0.01\n",
    "W = torch.from_numpy(W).to(torch.float32)\n",
    "loss_set = []\n",
    "accu_set = []\n",
    "disp_freq = 100\n",
    "\n",
    "for epoch in range(0, max_epoch):\n",
    "    iter_per_batch = train_size // batch_size\n",
    "    for batch_id in range(0, iter_per_batch):\n",
    "        batch = train_set.next_batch(batch_size)  # get data of next batch\n",
    "        input, label = batch\n",
    "        # 全部换为tensor类型\n",
    "        input = torch.from_numpy(input).to(torch.float32)\n",
    "        label = torch.from_numpy(label).to(torch.float32)\n",
    "        # softmax_classifier\n",
    "        loss, gradient, prediction = softmax_classifier(W, input, label, lamda)\n",
    "        # Calculate accuracy\n",
    "        label = np.argmax(label, axis=1)  # scalar representation\n",
    "        accuracy = sum(numpy.array(prediction) == numpy.array(label)) / float(len(label))\n",
    "\n",
    "        loss_set.append(loss)\n",
    "        accu_set.append(accuracy)\n",
    "\n",
    "        # Update weights\n",
    "        W = torch.from_numpy(np.asarray(W))\n",
    "        W = W - (learning_rate * gradient)\n",
    "        if batch_id % disp_freq == 0:\n",
    "            print(\"Epoch [{}][{}]\\t Batch [{}][{}]\\t Training Loss {:.4f}\\t Accuracy {:.4f}\".format(\n",
    "                epoch, max_epoch, batch_id, iter_per_batch,\n",
    "                loss, accuracy))\n",
    "    print()"
   ]
  },
  {
   "cell_type": "markdown",
   "metadata": {},
   "source": [
    "## Test"
   ]
  },
  {
   "cell_type": "code",
   "execution_count": 15,
   "metadata": {
    "scrolled": true
   },
   "outputs": [
    {
     "name": "stdout",
     "output_type": "stream",
     "text": [
      "Test Accuracy:  0.8349\n"
     ]
    }
   ],
   "source": [
    "correct = 0\n",
    "iter_per_batch = test_size // batch_size\n",
    "\n",
    "# Test process\n",
    "for batch_id in range(0, iter_per_batch):\n",
    "    batch = test_set.next_batch(batch_size)\n",
    "    data, label = batch\n",
    "    data = torch.from_numpy(data).to(torch.float32)\n",
    "    label = torch.from_numpy(label).to(torch.float32)\n",
    "    # We only need prediction results in testing\n",
    "    _, _, prediction = softmax_classifier(W, data, label, lamda)\n",
    "    label = np.argmax(label, axis=1)\n",
    "    correct += sum(numpy.array(prediction) == numpy.array(label))\n",
    "\n",
    "accuracy = correct * 1.0 / test_size\n",
    "print('Test Accuracy: ', accuracy)"
   ]
  },
  {
   "cell_type": "markdown",
   "metadata": {},
   "source": [
    "## 测试"
   ]
  },
  {
   "cell_type": "code",
   "execution_count": null,
   "metadata": {
    "pycharm": {
     "name": "#%%\n"
    }
   },
   "outputs": [],
   "source": [
    "test_imags, result = load_pred_images(W,False)\n",
    "print(result)\n",
    "for index, image in enumerate(test_imags):\n",
    "    image = image.numpy()\n",
    "    plt.imshow(np.reshape(image, [28, 28]))\n",
    "plt.show()"
   ]
  },
  {
   "cell_type": "markdown",
   "metadata": {},
   "source": [
    "## Plot"
   ]
  },
  {
   "cell_type": "code",
   "execution_count": 16,
   "metadata": {
    "scrolled": false
   },
   "outputs": [
    {
     "data": {
      "image/png": "[encoded data removed]",
      "text/plain": [
       "<Figure size 432x288 with 1 Axes>"
      ]
     },
     "metadata": {
      "needs_background": "light"
     },
     "output_type": "display_data"
    },
    {
     "data": {
      "image/png": "[encoded data removed]",
      "text/plain": [
       "<Figure size 432x288 with 1 Axes>"
      ]
     },
     "metadata": {
      "needs_background": "light"
     },
     "output_type": "display_data"
    }
   ],
   "source": [
    "# training loss curve\n",
    "plt.figure()\n",
    "plt.plot(loss_set, 'b--')\n",
    "plt.xlabel('iteration')\n",
    "plt.ylabel('loss')\n",
    "# training accuracy curve\n",
    "plt.figure()\n",
    "plt.plot(accu_set, 'r--')\n",
    "plt.xlabel('iteration')\n",
    "plt.ylabel('accuracy');"
   ]
  },
  {
   "cell_type": "markdown",
   "metadata": {},
   "source": [
    "### You have finished homework1-softmax, congratulations!"
   ]
  }
 ],
 "metadata": {
  "kernelspec": {
   "display_name": "Python 3 (ipykernel)",
   "language": "python",
   "name": "python3"
  },
  "language_info": {
   "codemirror_mode": {
    "name": "ipython",
    "version": 3
   },
   "file_extension": ".py",
   "mimetype": "text/x-python",
   "name": "python",
   "nbconvert_exporter": "python",
   "pygments_lexer": "ipython3",
   "version": "3.8.12"
  }
 },
 "nbformat": 4,
 "nbformat_minor": 2
}
