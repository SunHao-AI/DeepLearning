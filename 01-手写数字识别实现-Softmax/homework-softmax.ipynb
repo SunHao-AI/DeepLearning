{
 "cells": [
  {
   "cell_type": "markdown",
   "metadata": {},
   "source": [
    "# Homework-1: Softmax for MNIST Classification\n",
    "\n",
    "### In this homework, you need to\n",
    "- ### implement and apply a softmax classifier to perform digits classification."
   ]
  },
  {
   "cell_type": "code",
   "execution_count": 1,
   "metadata": {},
   "outputs": [],
   "source": [
    "import os, sys\n",
    "import numpy as np\n",
    "import matplotlib.pyplot as plt\n",
    "%matplotlib inline"
   ]
  },
  {
   "cell_type": "markdown",
   "metadata": {},
   "source": [
    "## Load MNIST Dataset\n",
    "The **mnist_data_loader.py** is a script to load mnist dataset, which is included in [TensorFlow tutorial](https://github.com/tensorflow/tensorflow/blob/r0.7/tensorflow/examples/tutorials/mnist/input_data.py)."
   ]
  },
  {
   "cell_type": "code",
   "execution_count": 2,
   "metadata": {},
   "outputs": [
    {
     "name": "stdout",
     "output_type": "stream",
     "text": [
      "WARNING:tensorflow:From d:\\anaconda3\\envs\\mypytorch_cuda_11.5_1\\lib\\site-packages\\tensorflow\\python\\compat\\v2_compat.py:96: disable_resource_variables (from tensorflow.python.ops.variable_scope) is deprecated and will be removed in a future version.\n",
      "Instructions for updating:\n",
      "non-resource variables are not supported in the long term\n",
      "Extracting ../DataSet/MNIST_data/train-images-idx3-ubyte.gz\n",
      "Extracting ../DataSet/MNIST_data/train-labels-idx1-ubyte.gz\n",
      "Extracting ../DataSet/MNIST_data/t10k-images-idx3-ubyte.gz\n",
      "Extracting ../DataSet/MNIST_data/t10k-labels-idx1-ubyte.gz\n",
      "\n",
      "Training dataset size:  60000\n",
      "Test dataset size:  10000\n"
     ]
    }
   ],
   "source": [
    "import mnist_data_loader\n",
    "\n",
    "mnist_dataset = mnist_data_loader.read_data_sets(\"../DataSet/MNIST_data/\", one_hot=True)\n",
    "\n",
    "# training dataset\n",
    "train_set = mnist_dataset.train\n",
    "# test dataset\n",
    "test_set = mnist_dataset.test\n",
    "\n",
    "train_size = train_set.num_examples\n",
    "test_size = test_set.num_examples\n",
    "print()\n",
    "print('Training dataset size: ', train_size)\n",
    "print('Test dataset size: ', test_size)"
   ]
  },
  {
   "cell_type": "markdown",
   "metadata": {},
   "source": [
    "## Data Example\n",
    "To have a better understand of MNIST dataset, we can visualize some examples in MNIST."
   ]
  },
  {
   "cell_type": "code",
   "execution_count": 3,
   "metadata": {},
   "outputs": [
    {
     "name": "stdout",
     "output_type": "stream",
     "text": [
      "[0. 0. 0. 0. 1. 0. 0. 0. 0. 0.]\n"
     ]
    },
    {
     "data": {
      "text/plain": "<matplotlib.image.AxesImage at 0x28ec81f8880>"
     },
     "execution_count": 3,
     "metadata": {},
     "output_type": "execute_result"
    },
    {
     "data": {
      "text/plain": "<Figure size 432x288 with 1 Axes>",
      "image/png": "[encoded data removed]"
     },
     "metadata": {
      "needs_background": "light"
     },
     "output_type": "display_data"
    }
   ],
   "source": [
    "# You can choose any image in training set to visualize, example_id ∈ [0,60000)\n",
    "example_id = 2\n",
    "\n",
    "image = train_set.images[example_id]  # shape = 784 (28*28)\n",
    "label = train_set.labels[example_id]  # shape = 10\n",
    "#print(image)\n",
    "print(label)\n",
    "plt.imshow(np.reshape(image, [28, 28]))"
   ]
  },
  {
   "cell_type": "markdown",
   "metadata": {},
   "source": [
    "## Set Hyerparameters\n",
    "You can modify hyerparameters by yourself."
   ]
  },
  {
   "cell_type": "code",
   "execution_count": 4,
   "metadata": {},
   "outputs": [],
   "source": [
    "batch_size = 100\n",
    "max_epoch = 10\n",
    "learning_rate = 0.001\n",
    "\n",
    "# For regularization\n",
    "lamda = 0.3"
   ]
  },
  {
   "cell_type": "markdown",
   "metadata": {},
   "source": [
    "### TODO\n",
    "Before executing the following code, you should accomplish **./softmax_classifier.py**."
   ]
  },
  {
   "cell_type": "code",
   "execution_count": 5,
   "metadata": {},
   "outputs": [],
   "source": [
    "from softmax_classifier import softmax_classifier, load_pred_images"
   ]
  },
  {
   "cell_type": "markdown",
   "metadata": {},
   "source": [
    "## Train"
   ]
  },
  {
   "cell_type": "code",
   "execution_count": 6,
   "metadata": {
    "scrolled": true
   },
   "outputs": [
    {
     "name": "stderr",
     "output_type": "stream",
     "text": [
      "D:\\JetBrains\\workplace\\PyCharm-P\\DeepLearning\\01-手写数字识别实现-Softmax\\softmax_classifier.py:8: UserWarning: To copy construct from a tensor, it is recommended to use sourceTensor.clone().detach() or sourceTensor.clone().detach().requires_grad_(True), rather than torch.tensor(sourceTensor).\n",
      "  x = torch.tensor(x)\n"
     ]
    },
    {
     "name": "stdout",
     "output_type": "stream",
     "text": [
      "Epoch [0][10]\t Batch [0][600]\t Training Loss 2.4493\t Accuracy 0.0900\n",
      "Epoch [0][10]\t Batch [100][600]\t Training Loss 2.3246\t Accuracy 0.2900\n",
      "Epoch [0][10]\t Batch [200][600]\t Training Loss 2.2609\t Accuracy 0.5200\n",
      "Epoch [0][10]\t Batch [300][600]\t Training Loss 2.1907\t Accuracy 0.5900\n",
      "Epoch [0][10]\t Batch [400][600]\t Training Loss 2.0577\t Accuracy 0.7400\n",
      "Epoch [0][10]\t Batch [500][600]\t Training Loss 2.0378\t Accuracy 0.6900\n",
      "\n",
      "Epoch [1][10]\t Batch [0][600]\t Training Loss 1.9194\t Accuracy 0.7900\n",
      "Epoch [1][10]\t Batch [100][600]\t Training Loss 1.8907\t Accuracy 0.7800\n",
      "Epoch [1][10]\t Batch [200][600]\t Training Loss 1.9035\t Accuracy 0.7000\n",
      "Epoch [1][10]\t Batch [300][600]\t Training Loss 1.7858\t Accuracy 0.8100\n",
      "Epoch [1][10]\t Batch [400][600]\t Training Loss 1.7958\t Accuracy 0.7100\n",
      "Epoch [1][10]\t Batch [500][600]\t Training Loss 1.7492\t Accuracy 0.7300\n",
      "\n",
      "Epoch [2][10]\t Batch [0][600]\t Training Loss 1.7314\t Accuracy 0.7900\n",
      "Epoch [2][10]\t Batch [100][600]\t Training Loss 1.6412\t Accuracy 0.8500\n",
      "Epoch [2][10]\t Batch [200][600]\t Training Loss 1.7370\t Accuracy 0.7000\n",
      "Epoch [2][10]\t Batch [300][600]\t Training Loss 1.5944\t Accuracy 0.7900\n",
      "Epoch [2][10]\t Batch [400][600]\t Training Loss 1.6200\t Accuracy 0.8300\n",
      "Epoch [2][10]\t Batch [500][600]\t Training Loss 1.5697\t Accuracy 0.7600\n",
      "\n",
      "Epoch [3][10]\t Batch [0][600]\t Training Loss 1.4832\t Accuracy 0.8500\n",
      "Epoch [3][10]\t Batch [100][600]\t Training Loss 1.5672\t Accuracy 0.8200\n",
      "Epoch [3][10]\t Batch [200][600]\t Training Loss 1.6161\t Accuracy 0.7200\n",
      "Epoch [3][10]\t Batch [300][600]\t Training Loss 1.5503\t Accuracy 0.7900\n",
      "Epoch [3][10]\t Batch [400][600]\t Training Loss 1.4410\t Accuracy 0.8400\n",
      "Epoch [3][10]\t Batch [500][600]\t Training Loss 1.6502\t Accuracy 0.7000\n",
      "\n",
      "Epoch [4][10]\t Batch [0][600]\t Training Loss 1.5167\t Accuracy 0.7800\n",
      "Epoch [4][10]\t Batch [100][600]\t Training Loss 1.4452\t Accuracy 0.8400\n",
      "Epoch [4][10]\t Batch [200][600]\t Training Loss 1.5174\t Accuracy 0.7900\n",
      "Epoch [4][10]\t Batch [300][600]\t Training Loss 1.3988\t Accuracy 0.8200\n",
      "Epoch [4][10]\t Batch [400][600]\t Training Loss 1.4090\t Accuracy 0.8800\n",
      "Epoch [4][10]\t Batch [500][600]\t Training Loss 1.4613\t Accuracy 0.8100\n",
      "\n",
      "Epoch [5][10]\t Batch [0][600]\t Training Loss 1.4633\t Accuracy 0.7800\n",
      "Epoch [5][10]\t Batch [100][600]\t Training Loss 1.4797\t Accuracy 0.7300\n",
      "Epoch [5][10]\t Batch [200][600]\t Training Loss 1.3807\t Accuracy 0.7900\n",
      "Epoch [5][10]\t Batch [300][600]\t Training Loss 1.4230\t Accuracy 0.8300\n",
      "Epoch [5][10]\t Batch [400][600]\t Training Loss 1.5486\t Accuracy 0.7400\n",
      "Epoch [5][10]\t Batch [500][600]\t Training Loss 1.4902\t Accuracy 0.8000\n",
      "\n",
      "Epoch [6][10]\t Batch [0][600]\t Training Loss 1.3925\t Accuracy 0.8300\n",
      "Epoch [6][10]\t Batch [100][600]\t Training Loss 1.4092\t Accuracy 0.7800\n",
      "Epoch [6][10]\t Batch [200][600]\t Training Loss 1.4200\t Accuracy 0.7900\n",
      "Epoch [6][10]\t Batch [300][600]\t Training Loss 1.4056\t Accuracy 0.8200\n",
      "Epoch [6][10]\t Batch [400][600]\t Training Loss 1.5010\t Accuracy 0.7200\n",
      "Epoch [6][10]\t Batch [500][600]\t Training Loss 1.3603\t Accuracy 0.8400\n",
      "\n",
      "Epoch [7][10]\t Batch [0][600]\t Training Loss 1.4409\t Accuracy 0.8200\n",
      "Epoch [7][10]\t Batch [100][600]\t Training Loss 1.3986\t Accuracy 0.8100\n",
      "Epoch [7][10]\t Batch [200][600]\t Training Loss 1.5449\t Accuracy 0.7100\n",
      "Epoch [7][10]\t Batch [300][600]\t Training Loss 1.3684\t Accuracy 0.8500\n",
      "Epoch [7][10]\t Batch [400][600]\t Training Loss 1.3804\t Accuracy 0.8600\n",
      "Epoch [7][10]\t Batch [500][600]\t Training Loss 1.3729\t Accuracy 0.8000\n",
      "\n",
      "Epoch [8][10]\t Batch [0][600]\t Training Loss 1.4216\t Accuracy 0.8100\n",
      "Epoch [8][10]\t Batch [100][600]\t Training Loss 1.4946\t Accuracy 0.7700\n",
      "Epoch [8][10]\t Batch [200][600]\t Training Loss 1.2892\t Accuracy 0.8900\n",
      "Epoch [8][10]\t Batch [300][600]\t Training Loss 1.4612\t Accuracy 0.7700\n",
      "Epoch [8][10]\t Batch [400][600]\t Training Loss 1.3865\t Accuracy 0.8700\n",
      "Epoch [8][10]\t Batch [500][600]\t Training Loss 1.3859\t Accuracy 0.8500\n",
      "\n",
      "Epoch [9][10]\t Batch [0][600]\t Training Loss 1.3072\t Accuracy 0.8400\n",
      "Epoch [9][10]\t Batch [100][600]\t Training Loss 1.3337\t Accuracy 0.7900\n",
      "Epoch [9][10]\t Batch [200][600]\t Training Loss 1.3884\t Accuracy 0.8000\n",
      "Epoch [9][10]\t Batch [300][600]\t Training Loss 1.3386\t Accuracy 0.8100\n",
      "Epoch [9][10]\t Batch [400][600]\t Training Loss 1.3394\t Accuracy 0.8500\n",
      "Epoch [9][10]\t Batch [500][600]\t Training Loss 1.4198\t Accuracy 0.8600\n",
      "\n"
     ]
    }
   ],
   "source": [
    "import torch\n",
    "import numpy\n",
    "\n",
    "# Weight Initialization\n",
    "W = np.random.randn(28 * 28, 10) * 0.01\n",
    "W = torch.from_numpy(W).to(torch.float32)\n",
    "loss_set = []\n",
    "accu_set = []\n",
    "disp_freq = 100\n",
    "\n",
    "for epoch in range(0, max_epoch):\n",
    "    iter_per_batch = train_size // batch_size\n",
    "    for batch_id in range(0, iter_per_batch):\n",
    "        batch = train_set.next_batch(batch_size)  # get data of next batch\n",
    "        input, label = batch\n",
    "        # 全部换为tensor类型\n",
    "        input = torch.from_numpy(input).to(torch.float32)\n",
    "        label = torch.from_numpy(label).to(torch.float32)\n",
    "        # softmax_classifier\n",
    "        loss, gradient, prediction = softmax_classifier(W, input, label, lamda)\n",
    "        # Calculate accuracy\n",
    "        label = np.argmax(label, axis=1)  # scalar representation\n",
    "        accuracy = sum(numpy.array(prediction) == numpy.array(label)) / float(len(label))\n",
    "\n",
    "        loss_set.append(loss)\n",
    "        accu_set.append(accuracy)\n",
    "\n",
    "        # Update weights\n",
    "        W = torch.from_numpy(np.asarray(W))\n",
    "        W = W - (learning_rate * gradient)\n",
    "        if batch_id % disp_freq == 0:\n",
    "            print(\"Epoch [{}][{}]\\t Batch [{}][{}]\\t Training Loss {:.4f}\\t Accuracy {:.4f}\".format(\n",
    "                epoch, max_epoch, batch_id, iter_per_batch,\n",
    "                loss, accuracy))\n",
    "    print()"
   ]
  },
  {
   "cell_type": "markdown",
   "metadata": {},
   "source": [
    "## Test"
   ]
  },
  {
   "cell_type": "code",
   "execution_count": 7,
   "metadata": {
    "scrolled": true
   },
   "outputs": [
    {
     "name": "stdout",
     "output_type": "stream",
     "text": [
      "Test Accuracy:  0.8344\n"
     ]
    }
   ],
   "source": [
    "correct = 0\n",
    "iter_per_batch = test_size // batch_size\n",
    "\n",
    "# Test process\n",
    "for batch_id in range(0, iter_per_batch):\n",
    "    batch = test_set.next_batch(batch_size)\n",
    "    data, label = batch\n",
    "    data = torch.from_numpy(data).to(torch.float32)\n",
    "    label = torch.from_numpy(label).to(torch.float32)\n",
    "    # We only need prediction results in testing\n",
    "    _, _, prediction = softmax_classifier(W, data, label, lamda)\n",
    "    label = np.argmax(label, axis=1)\n",
    "    correct += sum(numpy.array(prediction) == numpy.array(label))\n",
    "\n",
    "accuracy = correct * 1.0 / test_size\n",
    "print('Test Accuracy: ', accuracy)"
   ]
  },
  {
   "cell_type": "markdown",
   "metadata": {},
   "source": [
    "## 测试"
   ]
  },
  {
   "cell_type": "code",
   "execution_count": 8,
   "metadata": {
    "pycharm": {
     "name": "#%%\n"
    }
   },
   "outputs": [
    {
     "name": "stdout",
     "output_type": "stream",
     "text": [
      "torch.return_types.max(\n",
      "values=tensor([177.7742, 353.5765, 588.9417, 296.0021, 615.1517, 346.2033, 299.1132,\n",
      "        654.7065, 408.6053, 652.3457]),\n",
      "indices=tensor([5, 2, 0, 0, 0, 6, 8, 0, 0, 0]))\n"
     ]
    },
    {
     "name": "stderr",
     "output_type": "stream",
     "text": [
      "D:\\JetBrains\\workplace\\PyCharm-P\\DeepLearning\\01-手写数字识别实现-Softmax\\softmax_classifier.py:54: UserWarning: Creating a tensor from a list of numpy.ndarrays is extremely slow. Please consider converting the list to a single numpy.ndarray with numpy.array() before converting to a tensor. (Triggered internally at  ..\\torch\\csrc\\utils\\tensor_new.cpp:201.)\n",
      "  data = torch.Tensor(img_list).to(torch.float32).reshape(-1, 784)\n"
     ]
    },
    {
     "data": {
      "text/plain": "<Figure size 432x288 with 1 Axes>",
      "image/png": "[encoded data removed]"
     },
     "metadata": {
      "needs_background": "light"
     },
     "output_type": "display_data"
    }
   ],
   "source": [
    "test_imags, result = load_pred_images(W,False)\n",
    "print(result)\n",
    "for index, image in enumerate(test_imags):\n",
    "    image = image.numpy()\n",
    "    plt.imshow(np.reshape(image, [28, 28]))\n",
    "plt.show()"
   ]
  },
  {
   "cell_type": "markdown",
   "metadata": {},
   "source": [
    "## Plot"
   ]
  },
  {
   "cell_type": "code",
   "execution_count": 9,
   "metadata": {
    "scrolled": false
   },
   "outputs": [
    {
     "data": {
      "text/plain": "<Figure size 432x288 with 1 Axes>",
      "image/png": "[encoded data removed]"
     },
     "metadata": {
      "needs_background": "light"
     },
     "output_type": "display_data"
    },
    {
     "data": {
      "text/plain": "<Figure size 432x288 with 1 Axes>",
      "image/png": "[encoded data removed]"
     },
     "metadata": {
      "needs_background": "light"
     },
     "output_type": "display_data"
    }
   ],
   "source": [
    "# training loss curve\n",
    "plt.figure()\n",
    "plt.plot(loss_set, 'b--')\n",
    "plt.xlabel('iteration')\n",
    "plt.ylabel('loss')\n",
    "# training accuracy curve\n",
    "plt.figure()\n",
    "plt.plot(accu_set, 'r--')\n",
    "plt.xlabel('iteration')\n",
    "plt.ylabel('accuracy');"
   ]
  },
  {
   "cell_type": "markdown",
   "metadata": {},
   "source": [
    "### You have finished homework1-softmax, congratulations!"
   ]
  }
 ],
 "metadata": {
  "kernelspec": {
   "display_name": "Python 3 (ipykernel)",
   "language": "python",
   "name": "python3"
  },
  "language_info": {
   "codemirror_mode": {
    "name": "ipython",
    "version": 3
   },
   "file_extension": ".py",
   "mimetype": "text/x-python",
   "name": "python",
   "nbconvert_exporter": "python",
   "pygments_lexer": "ipython3",
   "version": "3.8.12"
  }
 },
 "nbformat": 4,
 "nbformat_minor": 2
}